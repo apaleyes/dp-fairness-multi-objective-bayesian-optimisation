{
 "cells": [
  {
   "cell_type": "code",
   "execution_count": 1,
   "metadata": {},
   "outputs": [],
   "source": [
    "import numpy as np\n",
    "import pandas as pd\n",
    "import matplotlib.pyplot as plt\n",
    "import statistics"
   ]
  },
  {
   "cell_type": "code",
   "execution_count": 5,
   "metadata": {},
   "outputs": [],
   "source": [
    "results_FNN = pd.read_csv('/home/bf319/dp-fairness-multi-objective-bayesian-optimisation/final_experiments_Pareto/automated_experiment_1_2022-05-17-12:15:36/results.csv')\n",
    "results_DPFNN = pd.read_csv('/home/bf319/dp-fairness-multi-objective-bayesian-optimisation/final_experiments_Pareto/automated_experiment_1_2022-05-17-11:04:55/results.csv')"
   ]
  },
  {
   "cell_type": "code",
   "execution_count": 6,
   "metadata": {},
   "outputs": [
    {
     "name": "stdout",
     "output_type": "stream",
     "text": [
      "DPF-NN\n",
      "Accuracy\n",
      "77.16268260292165\n",
      "0.6296966625985193\n",
      "Fairness\n",
      "0.03386780377704807\n",
      "0.00531034575901876\n"
     ]
    }
   ],
   "source": [
    "print('DPF-NN')\n",
    "print('Accuracy')\n",
    "print(statistics.mean(1 - results_FNN['Classification error']) * 100)\n",
    "print(statistics.stdev(1 - results_FNN['Classification error']) * 100)\n",
    "print('Fairness')\n",
    "print(statistics.mean(abs(results_FNN['Fairness after (Risk difference)'])))\n",
    "print(statistics.stdev(abs(results_FNN['Fairness after (Risk difference)'])))"
   ]
  },
  {
   "cell_type": "code",
   "execution_count": 4,
   "metadata": {},
   "outputs": [
    {
     "name": "stdout",
     "output_type": "stream",
     "text": [
      "DPF-NN\n",
      "Accuracy\n",
      "73.97177954847278\n",
      "2.5129633990158333\n",
      "Fairness\n",
      "0.04298005057388524\n",
      "0.015950548273852276\n"
     ]
    }
   ],
   "source": [
    "print('DPF-NN')\n",
    "print('Accuracy')\n",
    "print(statistics.mean(1 - results_DPFNN['Classification error']) * 100)\n",
    "print(statistics.stdev(1 - results_DPFNN['Classification error']) * 100)\n",
    "print('Fairness')\n",
    "print(statistics.mean(abs(results_DPFNN['Fairness after (Risk difference)'])))\n",
    "print(statistics.stdev(abs(results_DPFNN['Fairness after (Risk difference)'])))"
   ]
  },
  {
   "cell_type": "code",
   "execution_count": null,
   "metadata": {},
   "outputs": [],
   "source": []
  }
 ],
 "metadata": {
  "interpreter": {
   "hash": "944322318449d65fa13214c712a5803611a3d7a9c21a3f4aa2fd4d0aaa5e4b86"
  },
  "kernelspec": {
   "display_name": "Python 3.8.2 ('Pareto-env': venv)",
   "language": "python",
   "name": "python3"
  },
  "language_info": {
   "codemirror_mode": {
    "name": "ipython",
    "version": 3
   },
   "file_extension": ".py",
   "mimetype": "text/x-python",
   "name": "python",
   "nbconvert_exporter": "python",
   "pygments_lexer": "ipython3",
   "version": "3.8.2"
  },
  "orig_nbformat": 4
 },
 "nbformat": 4,
 "nbformat_minor": 2
}
