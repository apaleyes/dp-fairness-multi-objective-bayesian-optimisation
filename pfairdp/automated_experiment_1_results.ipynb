{
 "cells": [
  {
   "cell_type": "code",
   "execution_count": 17,
   "metadata": {},
   "outputs": [],
   "source": [
    "import statistics\n",
    "import pandas as pd\n",
    "import numpy as np"
   ]
  },
  {
   "cell_type": "code",
   "execution_count": 18,
   "metadata": {},
   "outputs": [],
   "source": [
    "# results_FNN = pd.read_csv('~/dp-fairness-multi-objective-bayesian-optimisation/final_experiments_Pareto/automated_experiment_1_2022-05-17-12:15:36/results.csv')\n",
    "# results_DPFNN = pd.read_csv('~/dp-fairness-multi-objective-bayesian-optimisation/final_experiments_Pareto/automated_experiment_1_2022-05-17-11:04:55/results.csv')\n",
    "\n",
    "results_SNN = pd.read_csv('~/dp-fairness-multi-objective-bayesian-optimisation/pfairdp/S-NN.csv')\n",
    "results_DPNN = pd.read_csv('~/dp-fairness-multi-objective-bayesian-optimisation/pfairdp/DP-NN.csv')\n",
    "results_FNN = pd.read_csv('~/dp-fairness-multi-objective-bayesian-optimisation/pfairdp/F-NN.csv')\n",
    "results_DPFNN = pd.read_csv('~/dp-fairness-multi-objective-bayesian-optimisation/pfairdp/DPF-NN.csv')"
   ]
  },
  {
   "cell_type": "code",
   "execution_count": 19,
   "metadata": {},
   "outputs": [],
   "source": [
    "def print_stats_for_config(results_df, config_name):\n",
    "    print(config_name)\n",
    "\n",
    "    print('Accuracy')\n",
    "    print(statistics.mean(1 - results_df['Classification error']) * 100)\n",
    "    print(statistics.stdev(1 - results_df['Classification error']) * 100)\n",
    "    print('Fairness')\n",
    "    print(statistics.mean(abs(results_df['Fairness after (Risk difference)'])))\n",
    "    print(statistics.stdev(abs(results_df['Fairness after (Risk difference)'])))"
   ]
  },
  {
   "cell_type": "code",
   "execution_count": 20,
   "metadata": {},
   "outputs": [
    {
     "name": "stdout",
     "output_type": "stream",
     "text": [
      "S-NN\n",
      "Accuracy\n",
      "85.03367933992588\n",
      "0.09784124023139891\n",
      "Fairness\n",
      "0.18001343931229852\n",
      "0.00391922217766661\n",
      "\n",
      "DP-NN\n",
      "Accuracy\n",
      "82.58890731527548\n",
      "0.2823160414206963\n",
      "Fairness\n",
      "0.13949904759575252\n",
      "0.019256040810205415\n",
      "\n",
      "F-NN\n",
      "Accuracy\n",
      "78.48944577523903\n",
      "1.0438363520057887\n",
      "Fairness\n",
      "0.02940710924672922\n",
      "0.003369973338846582\n",
      "\n",
      "DPF-NN\n",
      "Accuracy\n",
      "74.16438611696888\n",
      "2.6384857399334654\n",
      "Fairness\n",
      "0.027058040020266863\n",
      "0.008560992123719857\n"
     ]
    }
   ],
   "source": [
    "print_stats_for_config(results_SNN, 'S-NN')\n",
    "print()\n",
    "print_stats_for_config(results_DPNN, 'DP-NN')\n",
    "print()\n",
    "print_stats_for_config(results_FNN, 'F-NN')\n",
    "print()\n",
    "print_stats_for_config(results_DPFNN, 'DPF-NN')\n"
   ]
  },
  {
   "cell_type": "code",
   "execution_count": 22,
   "metadata": {},
   "outputs": [
    {
     "data": {
      "image/png": "[encoded data removed]",
      "text/plain": [
       "<Figure size 1080x360 with 2 Axes>"
      ]
     },
     "metadata": {
      "needs_background": "light"
     },
     "output_type": "display_data"
    }
   ],
   "source": [
    "import matplotlib.pyplot as plt\n",
    "\n",
    "plt.rcParams[\"figure.figsize\"] = (15,5)\n",
    "\n",
    "def make_plot():\n",
    "    orig_acc_means = [84.14, 84.03, 79.25, 82.98]\n",
    "    orig_risk_diff_mean = [0.1310, 0.1355, 0.0566, 0.0475]\n",
    "\n",
    "    pfairdp_acc_means = [\n",
    "        statistics.mean(1 - results_SNN['Classification error']) * 100,\n",
    "        statistics.mean(1 - results_DPNN['Classification error']) * 100,\n",
    "        statistics.mean(1 - results_FNN['Classification error']) * 100,\n",
    "        statistics.mean(1 - results_DPFNN['Classification error']) * 100,\n",
    "    ]\n",
    "\n",
    "    pfairdp_risk_diff_mean = [\n",
    "        statistics.mean(abs(results_SNN['Fairness after (Risk difference)'])),\n",
    "        statistics.mean(abs(results_DPNN['Fairness after (Risk difference)'])),\n",
    "        statistics.mean(abs(results_FNN['Fairness after (Risk difference)'])),\n",
    "        statistics.mean(abs(results_DPFNN['Fairness after (Risk difference)'])),\n",
    "    ]\n",
    "\n",
    "    fig, (ax1, ax2) = plt.subplots(1, 2)\n",
    "    x_vals = np.arange(4)\n",
    "    \n",
    "    ax1.bar(x_vals - 0.2, orig_acc_means, 0.4, label = 'Original models', color = 'blue', alpha=0.9)\n",
    "    ax1.bar(x_vals + 0.2, pfairdp_acc_means, 0.4, label = 'PFairDP', color = 'green', alpha = 0.9)\n",
    "    ax1.set_ylim(0, 100)\n",
    "\n",
    "    ticks_ax1 = []\n",
    "    for x in range(4):\n",
    "        ticks_ax1.append(x - 0.2)\n",
    "        ticks_ax1.append(x + 0.2)\n",
    "    ax1.set_xticks(np.array(ticks_ax1), ['S-NN', 'PFairDP', 'DP-NN', 'PFairDP', 'F-NN', 'PFairDP', 'DPF-NN', 'PFairDP'], rotation = 45)\n",
    "    ax1.set_ylabel(\"Accuracy (%) \\n\")\n",
    "\n",
    "    ax2.bar(x_vals - 0.2, orig_risk_diff_mean, 0.4, color = 'blue', alpha=0.9)\n",
    "    ax2.bar(x_vals + 0.2, pfairdp_risk_diff_mean, 0.4, color = 'green', alpha = 0.9)\n",
    "    ax2.set_ylim(0, 0.3)\n",
    "\n",
    "    ax2.set_xticks(np.array(ticks_ax1), ['S-NN', 'PFairDP', 'DP-NN', 'PFairDP', 'F-NN', 'PFairDP', 'DPF-NN', 'PFairDP'], rotation = 45)\n",
    "    ax2.set_ylabel(\"Risk Difference\")\n",
    "    ax2.axhline(y = 0.1, xmin = 0.05, xmax = 0.95, color='black', linestyle='--', label = 'Lenient threshold')\n",
    "    ax2.axhline(y = 0.05, xmin = 0.05, xmax = 0.95, color='r', linestyle='--', label = 'Strict threshold')\n",
    "    ax2.legend()\n",
    "\n",
    "make_plot()"
   ]
  }
 ],
 "metadata": {
  "interpreter": {
   "hash": "944322318449d65fa13214c712a5803611a3d7a9c21a3f4aa2fd4d0aaa5e4b86"
  },
  "kernelspec": {
   "display_name": "Python 3.8.2 ('Pareto-env': venv)",
   "language": "python",
   "name": "python3"
  },
  "language_info": {
   "codemirror_mode": {
    "name": "ipython",
    "version": 3
   },
   "file_extension": ".py",
   "mimetype": "text/x-python",
   "name": "python",
   "nbconvert_exporter": "python",
   "pygments_lexer": "ipython3",
   "version": "3.8.2"
  },
  "orig_nbformat": 4
 },
 "nbformat": 4,
 "nbformat_minor": 2
}
