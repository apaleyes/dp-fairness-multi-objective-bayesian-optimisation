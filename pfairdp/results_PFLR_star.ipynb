{
 "cells": [
  {
   "cell_type": "code",
   "execution_count": 1,
   "metadata": {},
   "outputs": [],
   "source": [
    "import numpy as np\n",
    "import pandas as pd\n",
    "import matplotlib.pyplot as plt\n",
    "import statistics"
   ]
  },
  {
   "cell_type": "code",
   "execution_count": 22,
   "metadata": {},
   "outputs": [
    {
     "name": "stdout",
     "output_type": "stream",
     "text": [
      "Noise multiplier 9\n",
      "Accuracy\n",
      "0.7273 ± 0.0905\n",
      "Fairness\n",
      "0.0087 ± 0.0059\n",
      "\n",
      "\n",
      "Noise multiplier 1.27\n",
      "Accuracy\n",
      "0.7526 ± 0.0647\n",
      "Fairness\n",
      "0.0098 ± 0.0065\n",
      "\n",
      "\n",
      "Noise multiplier 0.51\n",
      "Accuracy\n",
      "0.7557 ± 0.0544\n",
      "Fairness\n",
      "0.0153 ± 0.0084\n",
      "\n",
      "\n"
     ]
    }
   ],
   "source": [
    "results_PFLR_Star = pd.read_csv('/home/bf319/dp-fairness-multi-objective-bayesian-optimisation/pfairdp/final_PFLR_star.csv')\n",
    "for noise_multiplier in [9, 1.27, 0.51]:\n",
    "    fairness_after = []\n",
    "    accuracy_after = []\n",
    "\n",
    "    for idx, row in results_PFLR_Star.iterrows():\n",
    "        if row['Noise multiplier'] == noise_multiplier:\n",
    "            fairness_after.append(abs(row['Fairness after']))\n",
    "            accuracy_after.append(1 - row['Classification error'])\n",
    "\n",
    "    print(f'Noise multiplier {noise_multiplier}')\n",
    "    print('Accuracy')\n",
    "    print(f'{str(round(statistics.mean(accuracy_after), 4))} ± {str(round(statistics.stdev(accuracy_after), 4))}')\n",
    "    print('Fairness')\n",
    "    print(f'{str(round(statistics.mean(fairness_after), 4))} ± {str(round(statistics.stdev(fairness_after), 4))}')\n",
    "    print()\n",
    "    print()"
   ]
  }
 ],
 "metadata": {
  "interpreter": {
   "hash": "944322318449d65fa13214c712a5803611a3d7a9c21a3f4aa2fd4d0aaa5e4b86"
  },
  "kernelspec": {
   "display_name": "Python 3.8.2 ('Pareto-env': venv)",
   "language": "python",
   "name": "python3"
  },
  "language_info": {
   "codemirror_mode": {
    "name": "ipython",
    "version": 3
   },
   "file_extension": ".py",
   "mimetype": "text/x-python",
   "name": "python",
   "nbconvert_exporter": "python",
   "pygments_lexer": "ipython3",
   "version": "3.8.2"
  },
  "orig_nbformat": 4
 },
 "nbformat": 4,
 "nbformat_minor": 2
}
