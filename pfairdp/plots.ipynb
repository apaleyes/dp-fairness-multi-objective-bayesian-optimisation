{
 "cells": [
  {
   "cell_type": "code",
   "execution_count": 9,
   "metadata": {},
   "outputs": [],
   "source": [
    "import math"
   ]
  },
  {
   "cell_type": "code",
   "execution_count": 4,
   "metadata": {},
   "outputs": [],
   "source": [
    "import pandas as pd\n",
    "import matplotlib.pyplot as plt\n",
    "\n",
    "import torch\n",
    "from botorch.utils.multi_objective.box_decompositions.dominated import DominatedPartitioning"
   ]
  },
  {
   "cell_type": "code",
   "execution_count": 7,
   "metadata": {},
   "outputs": [],
   "source": [
    "df_grid_meps = pd.read_csv(\"../experiments/grid/meps.csv\")\n",
    "df_random_meps = pd.read_csv(\"../experiments/random/meps.csv\")"
   ]
  },
  {
   "cell_type": "code",
   "execution_count": 10,
   "metadata": {},
   "outputs": [],
   "source": [
    "# Transformations described in the paper in order to make the output domain [-inf, inf] for modelling with GPs\n",
    "# and turn the optimisation process into maximisation across all objectives (required by BoTorch)\n",
    "def process_fairness_value(val):\n",
    "    return math.log(1 - val) - math.log(val)\n",
    "\n",
    "def revert_fairness_value(val):\n",
    "    return 1 / (1 + math.e**(val))\n",
    "\n",
    "def process_privacy_value(val):\n",
    "    return - math.log(val)\n",
    "\n",
    "def revert_privacy_value(val):\n",
    "    return math.e**(-val)\n",
    "\n",
    "def process_accuracy_value(val):\n",
    "    return math.log(val) - math.log(1 - val)\n",
    "\n",
    "def revert_accuracy_value(val):\n",
    "    return 1 / (1 + math.e**(-val))"
   ]
  },
  {
   "cell_type": "code",
   "execution_count": 11,
   "metadata": {},
   "outputs": [],
   "source": [
    "anti_ideal_point = torch.FloatTensor([\n",
    "    process_accuracy_value(0.0001),\n",
    "    process_fairness_value(1 - 0.0001),\n",
    "    process_privacy_value(1)\n",
    "    ])"
   ]
  },
  {
   "cell_type": "code",
   "execution_count": 15,
   "metadata": {},
   "outputs": [],
   "source": [
    "y_grid_meps = torch.FloatTensor([\n",
    "    df_grid_meps[\"Classification error\"],\n",
    "    df_grid_meps[\"Fairness after\"],\n",
    "    df_grid_meps[\"Privacy budget\"]\n",
    "]).T"
   ]
  },
  {
   "cell_type": "code",
   "execution_count": 21,
   "metadata": {},
   "outputs": [
    {
     "data": {
      "text/plain": [
       "256"
      ]
     },
     "execution_count": 21,
     "metadata": {},
     "output_type": "execute_result"
    }
   ],
   "source": [
    "df_grid_meps.shape[0]"
   ]
  },
  {
   "cell_type": "code",
   "execution_count": 16,
   "metadata": {},
   "outputs": [
    {
     "data": {
      "text/plain": [
       "torch.Size([256, 3])"
      ]
     },
     "execution_count": 16,
     "metadata": {},
     "output_type": "execute_result"
    }
   ],
   "source": [
    "y_grid_meps.shape"
   ]
  },
  {
   "cell_type": "code",
   "execution_count": 17,
   "metadata": {},
   "outputs": [],
   "source": [
    "bd = DominatedPartitioning(ref_point = anti_ideal_point, Y = y_grid_meps)\n",
    "volume = bd.compute_hypervolume().item()"
   ]
  },
  {
   "cell_type": "code",
   "execution_count": 34,
   "metadata": {},
   "outputs": [],
   "source": [
    "def get_volumes(df):\n",
    "    volumes = []\n",
    "    for i in range(df.shape[0]):\n",
    "        y = torch.FloatTensor([\n",
    "            df[\"Classification error\"][:i],\n",
    "            df[\"Fairness after\"][:i],\n",
    "            df[\"Privacy budget\"][:i]\n",
    "        ]).T\n",
    "\n",
    "        bd = DominatedPartitioning(ref_point = anti_ideal_point, Y = y)\n",
    "        volume = bd.compute_hypervolume().item()\n",
    "        volumes.append(volume)\n",
    "    return volumes"
   ]
  },
  {
   "cell_type": "code",
   "execution_count": 35,
   "metadata": {},
   "outputs": [],
   "source": [
    "volumes_grid_meps = get_volumes(df_grid_meps)\n",
    "volumes_random_meps = get_volumes(df_random_meps)"
   ]
  },
  {
   "cell_type": "code",
   "execution_count": 39,
   "metadata": {},
   "outputs": [
    {
     "data": {
      "text/plain": [
       "<matplotlib.legend.Legend at 0x7fa6cdd0bf70>"
      ]
     },
     "execution_count": 39,
     "metadata": {},
     "output_type": "execute_result"
    },
    {
     "data": {
      "image/png": "[encoded data removed]",
      "text/plain": [
       "<Figure size 640x480 with 1 Axes>"
      ]
     },
     "metadata": {},
     "output_type": "display_data"
    }
   ],
   "source": [
    "plt.plot(range(len(volumes_grid_meps)), volumes_grid_meps, label=\"grid\")\n",
    "plt.plot(range(len(volumes_random_meps)), volumes_random_meps, label=\"random\")\n",
    "plt.xlabel(\"Iterations\")\n",
    "plt.ylabel(\"Hypervolume\")\n",
    "plt.legend()"
   ]
  },
  {
   "cell_type": "code",
   "execution_count": null,
   "metadata": {},
   "outputs": [],
   "source": []
  }
 ],
 "metadata": {
  "kernelspec": {
   "display_name": ".venv",
   "language": "python",
   "name": "python3"
  },
  "language_info": {
   "codemirror_mode": {
    "name": "ipython",
    "version": 3
   },
   "file_extension": ".py",
   "mimetype": "text/x-python",
   "name": "python",
   "nbconvert_exporter": "python",
   "pygments_lexer": "ipython3",
   "version": "3.10.6"
  },
  "orig_nbformat": 4,
  "vscode": {
   "interpreter": {
    "hash": "4e3b585ebb6c12ac8d6581f149e6074f909d81d64280249b515da55b27413943"
   }
  }
 },
 "nbformat": 4,
 "nbformat_minor": 2
}
